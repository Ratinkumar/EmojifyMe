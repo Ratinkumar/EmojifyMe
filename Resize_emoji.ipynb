{
 "cells": [
  {
   "cell_type": "code",
   "execution_count": 5,
   "metadata": {},
   "outputs": [],
   "source": [
    "import cv2\n",
    "import numpy as np\n",
    "# Load functions\n",
    "def face_detector(img):\n",
    "    roi = cv2.resize(img, (150, 150))\n",
    "    return roi"
   ]
  },
  {
   "cell_type": "code",
   "execution_count": 17,
   "metadata": {},
   "outputs": [
    {
     "name": "stdout",
     "output_type": "stream",
     "text": [
      "Resizing Complete\n"
     ]
    }
   ],
   "source": [
    "# Read the input image\n",
    "frame = cv2.imread('sh.png')\n",
    "\n",
    "# Resize the image\n",
    "face = face_detector(frame)\n",
    "\n",
    "# Save the resized image with a unique name in the specified directory\n",
    "file_name_path = r'C:\\Users\\Ratin\\Desktop\\Emojify\\Emojis\\Shock.png'  # Using raw string literal\n",
    "cv2.imwrite(file_name_path, face)\n",
    "print(\"Resizing Complete\")"
   ]
  }
 ],
 "metadata": {
  "kernelspec": {
   "display_name": "emojify",
   "language": "python",
   "name": "python3"
  },
  "language_info": {
   "codemirror_mode": {
    "name": "ipython",
    "version": 3
   },
   "file_extension": ".py",
   "mimetype": "text/x-python",
   "name": "python",
   "nbconvert_exporter": "python",
   "pygments_lexer": "ipython3",
   "version": "3.11.9"
  }
 },
 "nbformat": 4,
 "nbformat_minor": 2
}
